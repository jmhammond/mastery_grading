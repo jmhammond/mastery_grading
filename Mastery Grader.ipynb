{
 "cells": [
  {
   "cell_type": "code",
   "execution_count": 44,
   "metadata": {},
   "outputs": [],
   "source": [
    "import collections\n",
    "Individual = collections.namedtuple('Individual', ['Name', 'Marks', 'WebAssign', 'RawData'])\n",
    "Marks = collections.namedtuple('Marks', ['Score', 'NumberOfNs'])\n",
    "\n",
    "## Key      |   Data\n",
    "## ---------+---------\n",
    "## Name     |  full name:  last, first\n",
    "## Marks    |  a namedtuple of type Marks\n",
    "## WebAssign|  WebAssign score (whole number, max 100)\n",
    "## Raw Data |  full pandas Series whose index is the Name above\n"
   ]
  },
  {
   "cell_type": "markdown",
   "metadata": {},
   "source": [
    "The threshold variables are html tables which specify the required thresholds for getting a particular letter grade.\n",
    "\n",
    "If the grading thresholds change (in a future semester, perhaps), adjust these tables in addition to the code."
   ]
  },
  {
   "cell_type": "code",
   "execution_count": 45,
   "metadata": {},
   "outputs": [],
   "source": [
    "final_threshold = \"<table class='paleGrayRows'><thead> <tr> <th>Final Letter Grade</th> <th>Points Needed</th> <th>WebAssign Homework (entire course)</th> </tr> </thead> <tbody> <tr> <td>A</td> <td>≥ 46 points and no scores below G</td> <td>≥ 80%</td> </tr> <tr> <td>B</td> <td>≥ 39 points and at most 2 scores below G</td> <td>≥ 70%</td> </tr> <tr> <td>C</td> <td>≥ 35 points and at most 6 scores below G</td> <td>≥ 60%</td> </tr> <tr> <td>D</td> <td>≥ 30 points</td> <td>≥ 50%</td> </tr> <tr> <td>F</td> <td>&lt; 30 points</td> <td>&lt; 50%</td> </tr> </tbody> </table>\"\n",
    "midterm_threshold = \"<table class='paleGrayRows'> <thead> <tr> <th>Midterm Letter Grade</th> <th>Course Standards</th> <th>WebAssign Homework (12.1-12.4 Chapter 6, Chapter 7, 8.1, 8.2)</th> </tr> </thead> <tbody> <tr> <td>A</td> <td>≥ 19 points and no scores below G</td> <td>≥ 80%</td> </tr> <tr> <td>B</td> <td>≥ 17 points and at most 2 scores below G</td> <td>≥ 70%</td> </tr> <tr> <td>C</td> <td>≥ 13 points and at most 4 scores below G</td> <td>≥ 60%</td> </tr> <tr> <td>D</td> <td>≥ 11 points</td> <td>≥ 50%</td> </tr> <tr> <td>F</td> <td>&lt; 11 points</td> <td>&lt; 50%</td> </tr> </tbody> </table>\"\n",
    "\n",
    "midterm = { \"A\": {\"Points\": 19, \"Below G\": 0, \"WebAssign\": 80},\n",
    "           \"B\": {\"Points\": 17, \"Below G\": 2, \"WebAssign\": 70},\n",
    "           \"C\": {\"Points\": 13, \"Below G\": 4, \"WebAssign\": 60},\n",
    "           \"D\": {\"Points\": 11, \"Below G\": 1000, \"WebAssign\": 50},  \n",
    "           \"F\": {\"Points\": 0, \"Below G\": 1000, \"WebAssign\": 0}\n",
    "           # yes, I'm using 1000 as a threshold. I'm a teacher, not a programmer...\n",
    "          }\n",
    "\n",
    "final = { \"A\": {\"Points\": 46, \"Below G\": 0, \"WebAssign\": 80},\n",
    "         \"B\": {\"Points\": 39, \"Below G\": 2, \"WebAssign\": 70},\n",
    "         \"C\": {\"Points\": 35, \"Below G\": 6, \"WebAssign\": 60},\n",
    "         \"D\": {\"Points\": 30, \"Below G\": 1000, \"WebAssign\": 50},\n",
    "         \"F\": {\"Points\": 0, \"Below G\": 1000, \"WebAssign\": 0}\n",
    "        }\n",
    "\n",
    "## This is really dumb. I should do this differently. Want to suggest a better way? (After you've studied for your calculus test!)\n",
    "def decide_letter_grade(midterm_or_final, individual):\n",
    "    if midterm_or_final == \"Midterm\":\n",
    "        if individual.Marks.Score >= midterm['A'][\"Points\"] and individual.Marks.NumberOfNs <= midterm[\"A\"][\"Below G\"] and individual.WebAssign >= midterm[\"A\"][\"WebAssign\"]:\n",
    "            return \"A\"\n",
    "        elif individual.Marks.Score >= midterm['B'][\"Points\"] and individual.Marks.NumberOfNs <= midterm[\"B\"][\"Below G\"] and individual.WebAssign >= midterm[\"B\"][\"WebAssign\"]:\n",
    "            return \"B\"\n",
    "        elif individual.Marks.Score >= midterm['C'][\"Points\"] and individual.Marks.NumberOfNs <= midterm[\"C\"][\"Below G\"] and individual.WebAssign >= midterm[\"C\"][\"WebAssign\"]:\n",
    "            return \"C\"\n",
    "        elif individual.Marks.Score >= midterm['D'][\"Points\"] and individual.Marks.NumberOfNs <= midterm[\"D\"][\"Below G\"] and individual.WebAssign >= midterm[\"D\"][\"WebAssign\"]:\n",
    "            return \"D\"\n",
    "        elif individual.Marks.Score >= midterm['F'][\"Points\"] and individual.Marks.NumberOfNs <= midterm[\"F\"][\"Below G\"] and individual.WebAssign >= midterm[\"F\"][\"WebAssign\"]:\n",
    "            return \"F\"\n",
    "        else:\n",
    "            return \"None of the above?!?\"\n",
    "    elif midterm_or_final == \"Final\":\n",
    "        if individual.Marks.Score >= final['A'][\"Points\"] and individual.Marks.NumberOfNs <= final[\"A\"][\"Below G\"] and individual.WebAssign >= final[\"A\"][\"WebAssign\"]:\n",
    "            return \"A\"\n",
    "        elif individual.Marks.Score >= final['B'][\"Points\"] and individual.Marks.NumberOfNs <= final[\"B\"][\"Below G\"] and individual.WebAssign >= final[\"B\"][\"WebAssign\"]:\n",
    "            return \"B\"\n",
    "        elif individual.Marks.Score >= final['C'][\"Points\"] and individual.Marks.NumberOfNs <= final[\"C\"][\"Below G\"] and individual.WebAssign >= final[\"C\"][\"WebAssign\"]:\n",
    "            return \"C\"\n",
    "        elif individual.Marks.Score >= final['D'][\"Points\"] and individual.Marks.NumberOfNs <= final[\"D\"][\"Below G\"] and individual.WebAssign >= final[\"D\"][\"WebAssign\"]:\n",
    "            return \"D\"\n",
    "        elif individual.Marks.Score >= final['F'][\"Points\"] and individual.Marks.NumberOfNs <= final[\"F\"][\"Below G\"] and individual.WebAssign >= final[\"F\"][\"WebAssign\"]:\n",
    "            return \"F\"\n",
    "        else:\n",
    "            return \"None of the above?!?\"\n",
    "    else:\n",
    "        raise ValueError(\"What are you doing? Midterm or Final. That's it, man\")\n"
   ]
  },
  {
   "cell_type": "markdown",
   "metadata": {},
   "source": [
    "Here, we feed our data into an HTML template and use *weasyprint* to convert the HTML into a pretty PDF."
   ]
  },
  {
   "cell_type": "code",
   "execution_count": 46,
   "metadata": {},
   "outputs": [],
   "source": [
    "from jinja2 import Environment, FileSystemLoader\n",
    "from weasyprint import HTML\n",
    "from datetime import date\n",
    "\n",
    "def print_the_report_for(individual):\n",
    "    today = date.today().strftime(\"%B %d, %Y\")\n",
    "    env = Environment(loader=FileSystemLoader('.'))\n",
    "    template = env.get_template(\"template.html\")\n",
    "    template_vars = {\n",
    "        \"Name\": individual.Name,\n",
    "        \"raw_data\": individual.RawData.to_html(index=False, bold_rows=False, classes=[\"paleGrayRows\"]),\n",
    "        \"score\": individual.Marks.Score,\n",
    "        \"number_of_ns\": individual.Marks.NumberOfNs,\n",
    "        \"webassign_grade\": individual.WebAssign,\n",
    "        \"letter_grade\": decide_letter_grade(midtermOrFinal, individual),\n",
    "        \"date\": today,\n",
    "        \"midterm_or_final\": midtermOrFinal,\n",
    "        \"grade_threshold\": midterm_threshold if midtermOrFinal==\"Midterm\" else final_threshold,\n",
    "        \"extra_text\": extra_text if extra_text else \"\"\n",
    "    }\n",
    "\n",
    "    output = template.render(template_vars)\n",
    "    HTML(string=output).write_pdf(\"./reports/\"+individual.Name+\".pdf\",stylesheets=[\"./report.css\"])\n",
    "   "
   ]
  },
  {
   "cell_type": "markdown",
   "metadata": {},
   "source": [
    "Read in the data from the Blackboard exported CSV. \n",
    "\n",
    "\n",
    "**Future note** if blackboard columns change, this will be rather broken.\n",
    "\n",
    "If you're just playing with this, you can read *test.csv* for test data."
   ]
  },
  {
   "cell_type": "code",
   "execution_count": 47,
   "metadata": {},
   "outputs": [],
   "source": [
    "import pandas as pd\n",
    "\n",
    "filename_change_if_youre_testing = \"lastweek.csv\"\n",
    "\n",
    "df = pd.read_csv(filename_change_if_youre_testing)\n",
    "better_cols = ['Last Name', 'First Name', 'Username', 'Student ID', 'Last Access', 'Availability', \n",
    "               '01', 'V1', 'V2', 'V3', 'V4', \n",
    "               'F1', 'F2', 'F3', 'F4', \n",
    "               'I1', 'I2', 'I3', 'I4', 'I5', 'I6', \n",
    "               'A1', 'A2', \n",
    "               'C1', 'C2', 'C3', 'C4', 'C5',\n",
    "               'S1', 'S2', 'S3/S4', '--', 'S5', 'S6', 'S7', \n",
    "               'P1', 'P2', 'P3', 'WebAssign']\n",
    "df.columns = better_cols\n",
    "\n",
    "## Make a better index column and dump everything not grade-related\n",
    "df['Name'] = df['Last Name'] + ', ' + df['First Name']\n",
    "df.drop(['Last Name', 'First Name', 'Username', 'Student ID', 'Last Access', 'Availability'], axis=1, inplace=True)\n",
    "df.set_index(\"Name\", inplace=True)\n"
   ]
  },
  {
   "cell_type": "markdown",
   "metadata": {},
   "source": [
    "Define the tools for reading the S, G, and N strings into their corresponding numeric values"
   ]
  },
  {
   "cell_type": "code",
   "execution_count": 48,
   "metadata": {},
   "outputs": [],
   "source": [
    "def sgn_to_number(sgn):\n",
    "#Note that S has the value 1, G has the value 0.5, and N has the value 0; else is 0; \n",
    "    if (sgn == \"S\"):\n",
    "        return 1\n",
    "    elif (sgn == \"G\"):\n",
    "        return 0.5\n",
    "    else:\n",
    "        return 0\n",
    "    \n",
    "def marks_to_score(marks):\n",
    "    ## First, extract the last two entries:\n",
    "    try: \n",
    "        marks = marks[-2:]\n",
    "    except TypeError:  # encountered NaN or not a string\n",
    "        return 0\n",
    "    except IndexError: # encountered NaN; bah\n",
    "        return 0\n",
    "    \n",
    "    # this needs to be a dictionary, not a Marks namedtuple\n",
    "    return {'score' : sum(map(sgn_to_number, marks)), \n",
    "                'number of ns' : marks.count(\"N\")+marks.count(\"Z\")}\n",
    "\n",
    "def summative(marks):\n",
    "    score_so_far = 0\n",
    "    ns_so_far = 0\n",
    "    for cell in marks:\n",
    "        try: \n",
    "            score_so_far += cell['score']\n",
    "            ns_so_far += cell['number of ns']\n",
    "        except:\n",
    "            pass\n",
    "    return Marks(Score=score_so_far, NumberOfNs=ns_so_far)"
   ]
  },
  {
   "cell_type": "markdown",
   "metadata": {},
   "source": [
    "Iterate over the dataset, sum marks, assign webassign grade. \n",
    "\n",
    "Note: Iterating over a *pandas* DataFrame is a bad idea for large datasets. If you're a student (not me), learn to do this differently. For this use case of no more that 40 records, I'm fine with performance loss."
   ]
  },
  {
   "cell_type": "code",
   "execution_count": 49,
   "metadata": {},
   "outputs": [],
   "source": [
    "class_scores = list()\n",
    "for index, row in df.iterrows():\n",
    "    raw = pd.DataFrame({'Standard':row.index, 'Marks':row.values})\n",
    "    raw = raw.dropna()\n",
    "    class_scores.append( Individual(Name=index, \n",
    "                                    Marks=summative(row.apply(marks_to_score)), \n",
    "                                    WebAssign=row.loc['WebAssign'], \n",
    "                                    RawData=raw) )\n"
   ]
  },
  {
   "cell_type": "code",
   "execution_count": 50,
   "metadata": {},
   "outputs": [],
   "source": [
    "# temporary stuff:\n",
    "midtermOrFinal = \"Final\"\n",
    "extra_text = \"<h2>Last week before final</h2><p> <b>Note:</b> this is prepared the week before the final. There is still one more quiz on one standard; you can get up to 2 points (two S's) or as low as 2 additional N's. Note also the grade thresholds that must be met on the next page.</p> <p> Unhappy with your grade? There's still time to reassess - break week, last week of classes, and during finals week. Additionally, the final exam will cover the second half material. </p> <p>Happy with your grade? Do well on the last quiz and you can skip the final.</p>\"\n",
    "\n",
    "for individual in class_scores: \n",
    "    print_the_report_for(individual)"
   ]
  },
  {
   "cell_type": "code",
   "execution_count": null,
   "metadata": {},
   "outputs": [],
   "source": []
  }
 ],
 "metadata": {
  "kernelspec": {
   "display_name": "Python 3",
   "language": "python",
   "name": "python3"
  },
  "language_info": {
   "codemirror_mode": {
    "name": "ipython",
    "version": 3
   },
   "file_extension": ".py",
   "mimetype": "text/x-python",
   "name": "python",
   "nbconvert_exporter": "python",
   "pygments_lexer": "ipython3",
   "version": "3.7.3"
  }
 },
 "nbformat": 4,
 "nbformat_minor": 4
}
