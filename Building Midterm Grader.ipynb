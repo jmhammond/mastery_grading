{
 "cells": [
  {
   "cell_type": "code",
   "execution_count": 1,
   "metadata": {},
   "outputs": [],
   "source": [
    "import pandas as pd\n",
    "\n",
    "\n",
    "df = pd.read_csv(\"test.csv\")\n",
    "better_cols = ['Last Name', 'First Name', 'Username', 'Student ID', 'Last Access', 'Availability', '01', 'V1', 'V2', 'V3', 'V4', 'F1', 'F2', 'F3', 'F4', 'I1', 'I2', 'I3', 'I4', 'I5', 'I6', 'A1', 'A2', 'S1', 'S2', 'S3', 'S4', 'S5', 'S6', 'S7', 'P1', 'P2', 'P3', 'C1', 'C2', 'C3', 'C4', 'C5']\n",
    "df.columns = better_cols\n",
    "\n",
    "## Make a better index column and dump everything not grade-related\n",
    "df['Name'] = df['Last Name'] + ', ' + df['First Name']\n",
    "df.drop(['Last Name', 'First Name', 'Username', 'Student ID', 'Last Access', 'Availability'], axis=1, inplace=True)\n",
    "df.set_index(\"Name\", inplace=True)\n"
   ]
  },
  {
   "cell_type": "code",
   "execution_count": 2,
   "metadata": {},
   "outputs": [],
   "source": [
    "## Define the tools for reading the strings into numeric values: \n",
    "\n",
    "def sgn_to_number(sgn):\n",
    "#Note that S has the value 1, G has the value 0.5, and N has the value 0; else is 0; \n",
    "    if (sgn == \"S\"):\n",
    "        return 1\n",
    "    elif (sgn == \"G\"):\n",
    "        return 0.5\n",
    "    else:\n",
    "        return 0\n",
    "    \n",
    "def marks_to_score(marks):\n",
    "    ## First, extract the last two entries:\n",
    "    try: \n",
    "        marks = marks[-2:]\n",
    "    except TypeError:  # encountered NaN or not a string\n",
    "        return 0\n",
    "    except IndexError: # encountered NaN; bah\n",
    "        return 0\n",
    "    \n",
    "    return {\"score\":sum(map(sgn_to_number, marks)), \"number of ns\": marks.count(\"N\")+marks.count(\"Z\")}\n",
    "    \n",
    "    \n",
    "## Make sure nothing broke \n",
    "assert(marks_to_score(\"SSNSGS\") == {\"score\":1.5, \"number of ns\":0})"
   ]
  },
  {
   "cell_type": "code",
   "execution_count": 3,
   "metadata": {},
   "outputs": [],
   "source": [
    "def summative(marks):\n",
    "    score_so_far = 0\n",
    "    ns_so_far = 0\n",
    "    for cell in marks:\n",
    "        try: \n",
    "            score_so_far += cell['score']\n",
    "            ns_so_far += cell['number of ns']\n",
    "        except:\n",
    "            pass\n",
    "    return {'Score':score_so_far, 'Number of ns': ns_so_far}"
   ]
  },
  {
   "cell_type": "code",
   "execution_count": 52,
   "metadata": {},
   "outputs": [],
   "source": [
    "class_scores = list()\n",
    "for index, row in df.iterrows():\n",
    "    raw = pd.DataFrame({'Standard':row.index, 'Marks':row.values})\n",
    "    raw = raw.dropna()\n",
    "    class_scores.append( {\"Name\":index, \"Marks\":summative(row.apply(marks_to_score)), \"Raw Data\":raw})\n",
    "\n",
    "## Dataset for this is a hashset\n",
    "## Key      |   Data\n",
    "## ---------+---------\n",
    "## Name     |  full name:  last, first\n",
    "## Marks    |  hash of {'Score' and 'Number of ns'}\n",
    "## Raw Data |  full pandas Series whose index is the Name above"
   ]
  },
  {
   "cell_type": "code",
   "execution_count": 65,
   "metadata": {},
   "outputs": [],
   "source": [
    "# Now let's export the PDF report:\n",
    "from jinja2 import Environment, FileSystemLoader\n",
    "from weasyprint import HTML\n",
    "from datetime import date\n",
    "\n",
    "today = date.today().strftime(\"%B %d, %Y\")\n",
    "\n",
    "env = Environment(loader=FileSystemLoader('.'))\n",
    "template = env.get_template(\"template.html\")\n",
    "template_vars = {\n",
    "    \"Name\": class_scores[15]['Name'],\n",
    "    \"raw_data\": class_scores[15]['Raw Data'].to_html(index=False, bold_rows=False, classes=[\"paleGrayRows\"]),\n",
    "    \"score\": class_scores[15]['Marks']['Score'],\n",
    "    \"number_of_ns\": class_scores[15]['Marks']['Number of ns'],\n",
    "    \"letter_grade\": \"QQQQQQQQQQ\",\n",
    "    \"date\": today,\n",
    "    \"midterm_or_final\": \"Midterm\"\n",
    "}\n",
    "\n",
    "output = template.render(template_vars)\n",
    "#print(output)\n",
    "HTML(string=output).write_pdf(\"test.pdf\",stylesheets=[\"./report.css\"])"
   ]
  }
 ],
 "metadata": {
  "kernelspec": {
   "display_name": "Python 3",
   "language": "python",
   "name": "python3"
  },
  "language_info": {
   "codemirror_mode": {
    "name": "ipython",
    "version": 3
   },
   "file_extension": ".py",
   "mimetype": "text/x-python",
   "name": "python",
   "nbconvert_exporter": "python",
   "pygments_lexer": "ipython3",
   "version": "3.7.3"
  }
 },
 "nbformat": 4,
 "nbformat_minor": 4
}
